{
  "nbformat": 4,
  "nbformat_minor": 0,
  "metadata": {
    "colab": {
      "provenance": []
    },
    "kernelspec": {
      "name": "python3",
      "display_name": "Python 3"
    },
    "language_info": {
      "name": "python"
    }
  },
  "cells": [
    {
      "cell_type": "code",
      "source": [
        "import json\n",
        "\n",
        "# Load the Ethereum JSON data from the provided file\n",
        "with open('/content/ethereum.json', 'r') as file:\n",
        "    ethereum_data = json.load(file)\n",
        "\n",
        "# Initialize an empty dictionary to store Polygon-related data\n",
        "polygon_data = {}\n",
        "\n",
        "# Search for Polygon-related URLs and details within Ethereum JSON data\n",
        "for category, items in ethereum_data.items():\n",
        "    if isinstance(items, list):\n",
        "        for item in items:\n",
        "            if 'url' in item and ('polygon' in item['url'].lower() or 'matic' in item['url'].lower()):\n",
        "                polygon_data.setdefault(category, []).append(item)\n",
        "\n",
        "# Write the Polygon data to a new JSON file\n",
        "with open('/content/polygon.json', 'w') as file:\n",
        "    json.dump(polygon_data, file, indent=4)\n",
        "\n",
        "print(\"Polygon data extraction and file creation completed successfully.\")\n"
      ],
      "metadata": {
        "colab": {
          "base_uri": "https://localhost:8080/"
        },
        "id": "MPhzszmq3tyI",
        "outputId": "695f7da2-c498-4960-bec8-098f1b2964a6"
      },
      "execution_count": 8,
      "outputs": [
        {
          "output_type": "stream",
          "name": "stdout",
          "text": [
            "Polygon data extraction and file creation completed successfully.\n"
          ]
        }
      ]
    }
  ]
}